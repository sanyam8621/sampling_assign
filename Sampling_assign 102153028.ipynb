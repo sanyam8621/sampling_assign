{
  "nbformat": 4,
  "nbformat_minor": 0,
  "metadata": {
    "colab": {
      "provenance": []
    },
    "kernelspec": {
      "name": "python3",
      "display_name": "Python 3"
    },
    "language_info": {
      "name": "python"
    }
  },
  "cells": [
    {
      "cell_type": "code",
      "source": [
        "import pandas as pd\n",
        "from sklearn.model_selection import train_test_split, StratifiedShuffleSplit\n",
        "from sklearn.linear_model import LogisticRegression\n",
        "from sklearn.ensemble import RandomForestClassifier\n",
        "from sklearn.svm import SVC\n",
        "from sklearn.neighbors import KNeighborsClassifier\n",
        "from xgboost import XGBClassifier\n",
        "from imblearn.over_sampling import RandomOverSampler, SMOTE, ADASYN\n",
        "from imblearn.under_sampling import RandomUnderSampler\n",
        "from imblearn.combine import SMOTETomek\n",
        "from sklearn.metrics import accuracy_score"
      ],
      "metadata": {
        "id": "GF4Jfk8bY_x6"
      },
      "execution_count": null,
      "outputs": []
    },
    {
      "cell_type": "code",
      "source": [
        "# Load data\n",
        "df = pd.read_csv('https://raw.githubusercontent.com/AnjulaMehto/Sampling_Assignment/main/Creditcard_data.csv')\n",
        "X = df.drop(columns=['Time', 'Class'])\n",
        "y = df['Class']"
      ],
      "metadata": {
        "id": "KECqvzKRZBqH"
      },
      "execution_count": null,
      "outputs": []
    },
    {
      "cell_type": "code",
      "source": [
        "\n",
        "# Split data into training and testing sets\n",
        "X_train, X_test, y_train, y_test = train_test_split(X, y, test_size=0.3, random_state=42)"
      ],
      "metadata": {
        "id": "GpSYGepbZEWr"
      },
      "execution_count": null,
      "outputs": []
    },
    {
      "cell_type": "code",
      "source": [
        "# Define models\n",
        "models = {\n",
        "    'Logistic Regression': LogisticRegression(),\n",
        "    'Random Forest': RandomForestClassifier(),\n",
        "    'Support Vector Machine': SVC(),\n",
        "    'K-Nearest Neighbors': KNeighborsClassifier(),\n",
        "    'XGBoost': XGBClassifier()\n",
        "}"
      ],
      "metadata": {
        "id": "SS8Cvg-FZHBb"
      },
      "execution_count": null,
      "outputs": []
    },
    {
      "cell_type": "code",
      "source": [
        "# Define sampling techniques\n",
        "samplers = {\n",
        "    'Random Over-Sampling': RandomOverSampler(),\n",
        "    'Random Under-Sampling': RandomUnderSampler(),\n",
        "    'SMOTE': SMOTE(),\n",
        "    'ADASYN': ADASYN(),\n",
        "    'Tomek Links': SMOTETomek(),\n",
        "    'Stratified Sampling': StratifiedShuffleSplit(n_splits=5, test_size=0.3, random_state=42),\n",
        "    'Systematic Sampling': None  # Replace None with the appropriate implementation\n",
        "}"
      ],
      "metadata": {
        "id": "1hQlsv-KZMKe"
      },
      "execution_count": null,
      "outputs": []
    },
    {
      "cell_type": "code",
      "source": [
        "\n",
        "results = []\n",
        "for model_name, model in models.items():\n",
        "    for sampler_name, sampler in samplers.items():\n",
        "        if sampler_name == 'Stratified Sampling':\n",
        "            # Apply stratified sampling\n",
        "            for train_idx, val_idx in sampler.split(X_train, y_train):\n",
        "                X_resampled, y_resampled = X_train.iloc[train_idx], y_train.iloc[train_idx]\n",
        "                X_val, y_val = X_train.iloc[val_idx], y_train.iloc[val_idx]\n",
        "        elif sampler_name == 'Systematic Sampling':\n",
        "            # Apply systematic sampling\n",
        "            step = 2\n",
        "            indices = list(range(0, len(X_train), step))\n",
        "            X_resampled, y_resampled = X_train.iloc[indices], y_train.iloc[indices]\n",
        "        else:\n",
        "            # Apply other resampling techniques\n",
        "            X_resampled, y_resampled = sampler.fit_resample(X_train, y_train)\n",
        "        # Fit model to resampled data\n",
        "        model.fit(X_resampled, y_resampled)\n",
        "        # Make predictions on test data\n",
        "        y_pred = model.predict(X_test)\n",
        "        # Compute accuracy score on test data\n",
        "        accuracy = accuracy_score(y_test, y_pred)\n",
        "        # Append results to results list\n",
        "        results.append({'Model': model_name, 'Sampler': sampler_name, 'Accuracy': accuracy})\n",
        "# Convert results list to DataFrame\n",
        "results_df = pd.DataFrame(results)\n"
      ],
      "metadata": {
        "id": "egVoRZI6XepT"
      },
      "execution_count": null,
      "outputs": []
    },
    {
      "cell_type": "code",
      "source": [
        "results_df"
      ],
      "metadata": {
        "id": "NYAVUOWfXnLX"
      },
      "execution_count": null,
      "outputs": []
    },
    {
      "cell_type": "code",
      "source": [
        "# Reshape the DataFrame to have models as rows and samplers as columns\n",
        "table = pd.pivot_table(results_df, values='Accuracy', index=['Model'], columns=['Sampler'])"
      ],
      "metadata": {
        "id": "CzGvOvqnX34h"
      },
      "execution_count": null,
      "outputs": []
    },
    {
      "cell_type": "code",
      "source": [
        "table"
      ],
      "metadata": {
        "colab": {
          "base_uri": "https://localhost:8080/",
          "height": 237
        },
        "id": "qcZcCv8-X7DX",
        "outputId": "29c57e42-422d-4a6c-831b-685bcf045c62"
      },
      "execution_count": null,
      "outputs": [
        {
          "output_type": "execute_result",
          "data": {
            "text/plain": [
              "Sampler                   ADASYN  Random Over-Sampling  Random Under-Sampling  \\\n",
              "Model                                                                           \n",
              "K-Nearest Neighbors     0.922414              0.943966               0.336207   \n",
              "Logistic Regression     0.931034              0.939655               0.719828   \n",
              "Random Forest           0.987069              0.987069               0.745690   \n",
              "Support Vector Machine  0.672414              0.672414               0.262931   \n",
              "XGBoost                 0.952586              0.965517               0.594828   \n",
              "\n",
              "Sampler                    SMOTE  Stratified Sampling  Systematic Sampling  \\\n",
              "Model                                                                        \n",
              "K-Nearest Neighbors     0.918103             0.987069             0.987069   \n",
              "Logistic Regression     0.926724             0.982759             0.982759   \n",
              "Random Forest           0.987069             0.987069             0.987069   \n",
              "Support Vector Machine  0.672414             0.987069             0.987069   \n",
              "XGBoost                 0.952586             0.987069             0.982759   \n",
              "\n",
              "Sampler                 Tomek Links  \n",
              "Model                                \n",
              "K-Nearest Neighbors        0.918103  \n",
              "Logistic Regression        0.926724  \n",
              "Random Forest              0.987069  \n",
              "Support Vector Machine     0.672414  \n",
              "XGBoost                    0.952586  "
            ],
            "text/html": [
              "\n",
              "  <div id=\"df-b2614eed-8833-4800-bbd5-32b7f57cf670\">\n",
              "    <div class=\"colab-df-container\">\n",
              "      <div>\n",
              "<style scoped>\n",
              "    .dataframe tbody tr th:only-of-type {\n",
              "        vertical-align: middle;\n",
              "    }\n",
              "\n",
              "    .dataframe tbody tr th {\n",
              "        vertical-align: top;\n",
              "    }\n",
              "\n",
              "    .dataframe thead th {\n",
              "        text-align: right;\n",
              "    }\n",
              "</style>\n",
              "<table border=\"1\" class=\"dataframe\">\n",
              "  <thead>\n",
              "    <tr style=\"text-align: right;\">\n",
              "      <th>Sampler</th>\n",
              "      <th>ADASYN</th>\n",
              "      <th>Random Over-Sampling</th>\n",
              "      <th>Random Under-Sampling</th>\n",
              "      <th>SMOTE</th>\n",
              "      <th>Stratified Sampling</th>\n",
              "      <th>Systematic Sampling</th>\n",
              "      <th>Tomek Links</th>\n",
              "    </tr>\n",
              "    <tr>\n",
              "      <th>Model</th>\n",
              "      <th></th>\n",
              "      <th></th>\n",
              "      <th></th>\n",
              "      <th></th>\n",
              "      <th></th>\n",
              "      <th></th>\n",
              "      <th></th>\n",
              "    </tr>\n",
              "  </thead>\n",
              "  <tbody>\n",
              "    <tr>\n",
              "      <th>K-Nearest Neighbors</th>\n",
              "      <td>0.922414</td>\n",
              "      <td>0.943966</td>\n",
              "      <td>0.336207</td>\n",
              "      <td>0.918103</td>\n",
              "      <td>0.987069</td>\n",
              "      <td>0.987069</td>\n",
              "      <td>0.918103</td>\n",
              "    </tr>\n",
              "    <tr>\n",
              "      <th>Logistic Regression</th>\n",
              "      <td>0.931034</td>\n",
              "      <td>0.939655</td>\n",
              "      <td>0.719828</td>\n",
              "      <td>0.926724</td>\n",
              "      <td>0.982759</td>\n",
              "      <td>0.982759</td>\n",
              "      <td>0.926724</td>\n",
              "    </tr>\n",
              "    <tr>\n",
              "      <th>Random Forest</th>\n",
              "      <td>0.987069</td>\n",
              "      <td>0.987069</td>\n",
              "      <td>0.745690</td>\n",
              "      <td>0.987069</td>\n",
              "      <td>0.987069</td>\n",
              "      <td>0.987069</td>\n",
              "      <td>0.987069</td>\n",
              "    </tr>\n",
              "    <tr>\n",
              "      <th>Support Vector Machine</th>\n",
              "      <td>0.672414</td>\n",
              "      <td>0.672414</td>\n",
              "      <td>0.262931</td>\n",
              "      <td>0.672414</td>\n",
              "      <td>0.987069</td>\n",
              "      <td>0.987069</td>\n",
              "      <td>0.672414</td>\n",
              "    </tr>\n",
              "    <tr>\n",
              "      <th>XGBoost</th>\n",
              "      <td>0.952586</td>\n",
              "      <td>0.965517</td>\n",
              "      <td>0.594828</td>\n",
              "      <td>0.952586</td>\n",
              "      <td>0.987069</td>\n",
              "      <td>0.982759</td>\n",
              "      <td>0.952586</td>\n",
              "    </tr>\n",
              "  </tbody>\n",
              "</table>\n",
              "</div>\n",
              "      <button class=\"colab-df-convert\" onclick=\"convertToInteractive('df-b2614eed-8833-4800-bbd5-32b7f57cf670')\"\n",
              "              title=\"Convert this dataframe to an interactive table.\"\n",
              "              style=\"display:none;\">\n",
              "        \n",
              "  <svg xmlns=\"http://www.w3.org/2000/svg\" height=\"24px\"viewBox=\"0 0 24 24\"\n",
              "       width=\"24px\">\n",
              "    <path d=\"M0 0h24v24H0V0z\" fill=\"none\"/>\n",
              "    <path d=\"M18.56 5.44l.94 2.06.94-2.06 2.06-.94-2.06-.94-.94-2.06-.94 2.06-2.06.94zm-11 1L8.5 8.5l.94-2.06 2.06-.94-2.06-.94L8.5 2.5l-.94 2.06-2.06.94zm10 10l.94 2.06.94-2.06 2.06-.94-2.06-.94-.94-2.06-.94 2.06-2.06.94z\"/><path d=\"M17.41 7.96l-1.37-1.37c-.4-.4-.92-.59-1.43-.59-.52 0-1.04.2-1.43.59L10.3 9.45l-7.72 7.72c-.78.78-.78 2.05 0 2.83L4 21.41c.39.39.9.59 1.41.59.51 0 1.02-.2 1.41-.59l7.78-7.78 2.81-2.81c.8-.78.8-2.07 0-2.86zM5.41 20L4 18.59l7.72-7.72 1.47 1.35L5.41 20z\"/>\n",
              "  </svg>\n",
              "      </button>\n",
              "      \n",
              "  <style>\n",
              "    .colab-df-container {\n",
              "      display:flex;\n",
              "      flex-wrap:wrap;\n",
              "      gap: 12px;\n",
              "    }\n",
              "\n",
              "    .colab-df-convert {\n",
              "      background-color: #E8F0FE;\n",
              "      border: none;\n",
              "      border-radius: 50%;\n",
              "      cursor: pointer;\n",
              "      display: none;\n",
              "      fill: #1967D2;\n",
              "      height: 32px;\n",
              "      padding: 0 0 0 0;\n",
              "      width: 32px;\n",
              "    }\n",
              "\n",
              "    .colab-df-convert:hover {\n",
              "      background-color: #E2EBFA;\n",
              "      box-shadow: 0px 1px 2px rgba(60, 64, 67, 0.3), 0px 1px 3px 1px rgba(60, 64, 67, 0.15);\n",
              "      fill: #174EA6;\n",
              "    }\n",
              "\n",
              "    [theme=dark] .colab-df-convert {\n",
              "      background-color: #3B4455;\n",
              "      fill: #D2E3FC;\n",
              "    }\n",
              "\n",
              "    [theme=dark] .colab-df-convert:hover {\n",
              "      background-color: #434B5C;\n",
              "      box-shadow: 0px 1px 3px 1px rgba(0, 0, 0, 0.15);\n",
              "      filter: drop-shadow(0px 1px 2px rgba(0, 0, 0, 0.3));\n",
              "      fill: #FFFFFF;\n",
              "    }\n",
              "  </style>\n",
              "\n",
              "      <script>\n",
              "        const buttonEl =\n",
              "          document.querySelector('#df-b2614eed-8833-4800-bbd5-32b7f57cf670 button.colab-df-convert');\n",
              "        buttonEl.style.display =\n",
              "          google.colab.kernel.accessAllowed ? 'block' : 'none';\n",
              "\n",
              "        async function convertToInteractive(key) {\n",
              "          const element = document.querySelector('#df-b2614eed-8833-4800-bbd5-32b7f57cf670');\n",
              "          const dataTable =\n",
              "            await google.colab.kernel.invokeFunction('convertToInteractive',\n",
              "                                                     [key], {});\n",
              "          if (!dataTable) return;\n",
              "\n",
              "          const docLinkHtml = 'Like what you see? Visit the ' +\n",
              "            '<a target=\"_blank\" href=https://colab.research.google.com/notebooks/data_table.ipynb>data table notebook</a>'\n",
              "            + ' to learn more about interactive tables.';\n",
              "          element.innerHTML = '';\n",
              "          dataTable['output_type'] = 'display_data';\n",
              "          await google.colab.output.renderOutput(dataTable, element);\n",
              "          const docLink = document.createElement('div');\n",
              "          docLink.innerHTML = docLinkHtml;\n",
              "          element.appendChild(docLink);\n",
              "        }\n",
              "      </script>\n",
              "    </div>\n",
              "  </div>\n",
              "  "
            ]
          },
          "metadata": {},
          "execution_count": 100
        }
      ]
    }
  ]
}